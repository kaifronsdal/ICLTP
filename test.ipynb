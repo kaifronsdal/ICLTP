{
 "cells": [
  {
   "cell_type": "code",
   "execution_count": 1,
   "metadata": {
    "collapsed": true
   },
   "outputs": [],
   "source": [
    "import asyncio\n",
    "import os\n",
    "\n",
    "from typing import Iterable\n",
    "\n",
    "import pycoq.opam\n",
    "import pycoq.common\n",
    "import pycoq.agent"
   ]
  },
  {
   "cell_type": "code",
   "execution_count": 62,
   "outputs": [],
   "source": [
    "coq_ctxt = pycoq.common.CoqContext(pwd=os.getcwd(),\n",
    "                                   executable='',\n",
    "                                   target='serapi_shell')\n",
    "cfg = pycoq.opam.opam_serapi_cfg(coq_ctxt)"
   ],
   "metadata": {
    "collapsed": false
   }
  },
  {
   "cell_type": "code",
   "execution_count": 85,
   "outputs": [],
   "source": [
    "coq = pycoq.serapi.CoqSerapi(cfg)"
   ],
   "metadata": {
    "collapsed": false
   }
  },
  {
   "cell_type": "code",
   "execution_count": 55,
   "outputs": [],
   "source": [
    "theorems = [\n",
    "    (\"Theorem add_easy: forall n:nat, 0 + n = n.\",\n",
    "     [\"intros.\", \"Show Proof.\", \"simpl.\", \"Show Proof.\", \"reflexivity.\", \"Show Proof.\"]),\n",
    "]\n",
    "prop, script = theorems[0]"
   ],
   "metadata": {
    "collapsed": false
   }
  },
  {
   "cell_type": "code",
   "execution_count": 86,
   "outputs": [
    {
     "data": {
      "text/plain": "<pycoq.serapi.CoqSerapi at 0x7f97b8eebeb0>"
     },
     "execution_count": 86,
     "metadata": {},
     "output_type": "execute_result"
    }
   ],
   "source": [
    "await coq.start()\n",
    "coq"
   ],
   "metadata": {
    "collapsed": false
   }
  },
  {
   "cell_type": "code",
   "execution_count": 87,
   "outputs": [
    {
     "data": {
      "text/plain": "(1, 23, [], [2])"
     },
     "execution_count": 87,
     "metadata": {},
     "output_type": "execute_result"
    }
   ],
   "source": [
    "cmd_tag, resp_ind, coq_exc, sid = await coq.execute(prop)\n",
    "cmd_tag, resp_ind, coq_exc, sid"
   ],
   "metadata": {
    "collapsed": false
   }
  },
  {
   "cell_type": "code",
   "execution_count": 78,
   "outputs": [],
   "source": [
    "async def query_proof(coq) -> str:\n",
    "    \"\"\"\n",
    "    sends serapi command\n",
    "    (Query () Definition name)\n",
    "    \"\"\"\n",
    "    cmd_tag = len(coq._sent_history)\n",
    "    cmd = f'(Query (pp: pp_format: PpStr) Proof)'\n",
    "    await coq._kernel.writeline(cmd)\n",
    "    print('writen')\n",
    "    coq._sent_history.append(cmd)\n",
    "    return cmd_tag\n",
    "\n",
    "async def query_proof_completed(coq):\n",
    "    cmd_tag = await query_proof(coq)\n",
    "    print('queries')\n",
    "    resp_ind = await coq.wait_for_answer_completed(cmd_tag)\n",
    "    print('waited')\n",
    "    coqexns = await coq.coqexns(cmd_tag)\n",
    "    print('exns')\n",
    "    if coqexns != []:\n",
    "        raise RuntimeError(f'Unexpected error during coq-serapi command Query () Goals '\n",
    "                           f'with CoqExns {coqexns}')\n",
    "    goals = await coq._answer(cmd_tag)\n",
    "    return goals"
   ],
   "metadata": {
    "collapsed": false
   }
  },
  {
   "cell_type": "code",
   "execution_count": 88,
   "outputs": [
    {
     "name": "stdout",
     "output_type": "stream",
     "text": [
      "executing: intros.\n",
      "writen\n",
      "queries\n"
     ]
    },
    {
     "ename": "CancelledError",
     "evalue": "",
     "output_type": "error",
     "traceback": [
      "\u001B[0;31m---------------------------------------------------------------------------\u001B[0m",
      "\u001B[0;31mCancelledError\u001B[0m                            Traceback (most recent call last)",
      "Cell \u001B[0;32mIn[88], line 10\u001B[0m\n\u001B[1;32m      7\u001B[0m     \u001B[38;5;28;01mbreak\u001B[39;00m\n\u001B[1;32m      9\u001B[0m serapi_goals \u001B[38;5;241m=\u001B[39m \u001B[38;5;28;01mawait\u001B[39;00m coq\u001B[38;5;241m.\u001B[39mserapi_goals()\n\u001B[0;32m---> 10\u001B[0m serapi_proofs \u001B[38;5;241m=\u001B[39m \u001B[38;5;28;01mawait\u001B[39;00m query_proof_completed(coq)\n\u001B[1;32m     11\u001B[0m \u001B[38;5;28mprint\u001B[39m(serapi_proofs)\n",
      "Cell \u001B[0;32mIn[78], line 16\u001B[0m, in \u001B[0;36mquery_proof_completed\u001B[0;34m(coq)\u001B[0m\n\u001B[1;32m     14\u001B[0m cmd_tag \u001B[38;5;241m=\u001B[39m \u001B[38;5;28;01mawait\u001B[39;00m query_proof(coq)\n\u001B[1;32m     15\u001B[0m \u001B[38;5;28mprint\u001B[39m(\u001B[38;5;124m'\u001B[39m\u001B[38;5;124mqueries\u001B[39m\u001B[38;5;124m'\u001B[39m)\n\u001B[0;32m---> 16\u001B[0m resp_ind \u001B[38;5;241m=\u001B[39m \u001B[38;5;28;01mawait\u001B[39;00m coq\u001B[38;5;241m.\u001B[39mwait_for_answer_completed(cmd_tag)\n\u001B[1;32m     17\u001B[0m \u001B[38;5;28mprint\u001B[39m(\u001B[38;5;124m'\u001B[39m\u001B[38;5;124mwaited\u001B[39m\u001B[38;5;124m'\u001B[39m)\n\u001B[1;32m     18\u001B[0m coqexns \u001B[38;5;241m=\u001B[39m \u001B[38;5;28;01mawait\u001B[39;00m coq\u001B[38;5;241m.\u001B[39mcoqexns(cmd_tag)\n",
      "File \u001B[0;32m~/opt/miniconda3/envs/ICLTP/lib/python3.9/site-packages/pycoq/serapi.py:227\u001B[0m, in \u001B[0;36mCoqSerapi.wait_for_answer_completed\u001B[0;34m(self, cmd_tag)\u001B[0m\n\u001B[1;32m    223\u001B[0m \u001B[38;5;124;03m\"\"\" read and save responses from serapi to _serapi_response_history\u001B[39;00m\n\u001B[1;32m    224\u001B[0m \u001B[38;5;124;03mstop when (Answer cmd_tag Completed) is received\u001B[39;00m\n\u001B[1;32m    225\u001B[0m \u001B[38;5;124;03m\"\"\"\u001B[39;00m\n\u001B[1;32m    226\u001B[0m \u001B[38;5;28;01mwhile\u001B[39;00m \u001B[38;5;28;01mTrue\u001B[39;00m:\n\u001B[0;32m--> 227\u001B[0m     line \u001B[38;5;241m=\u001B[39m \u001B[38;5;28;01mawait\u001B[39;00m \u001B[38;5;28mself\u001B[39m\u001B[38;5;241m.\u001B[39m_kernel\u001B[38;5;241m.\u001B[39mreadline()\n\u001B[1;32m    228\u001B[0m     \u001B[38;5;28;01mif\u001B[39;00m line \u001B[38;5;241m==\u001B[39m \u001B[38;5;124m'\u001B[39m\u001B[38;5;124m'\u001B[39m:\n\u001B[1;32m    229\u001B[0m         \u001B[38;5;28mprint\u001B[39m(\u001B[38;5;124m\"\u001B[39m\u001B[38;5;124mempty readline: \u001B[39m\u001B[38;5;124m\"\u001B[39m, end\u001B[38;5;241m=\u001B[39m\u001B[38;5;124m'\u001B[39m\u001B[38;5;124m'\u001B[39m)\n",
      "File \u001B[0;32m~/opt/miniconda3/envs/ICLTP/lib/python3.9/site-packages/pycoq/kernel.py:87\u001B[0m, in \u001B[0;36mLocalKernel.readline\u001B[0;34m(self, timeout)\u001B[0m\n\u001B[1;32m     85\u001B[0m \u001B[38;5;28;01masync\u001B[39;00m \u001B[38;5;28;01mdef\u001B[39;00m \u001B[38;5;21mreadline\u001B[39m(\u001B[38;5;28mself\u001B[39m, timeout\u001B[38;5;241m=\u001B[39m\u001B[38;5;28;01mNone\u001B[39;00m) \u001B[38;5;241m-\u001B[39m\u001B[38;5;241m>\u001B[39m \u001B[38;5;28mstr\u001B[39m:\n\u001B[1;32m     86\u001B[0m     \u001B[38;5;124;03m\"\"\" reads line from kernel stdout \"\"\"\u001B[39;00m\n\u001B[0;32m---> 87\u001B[0m     line \u001B[38;5;241m=\u001B[39m \u001B[38;5;28;01mawait\u001B[39;00m readline(\u001B[38;5;28mself\u001B[39m\u001B[38;5;241m.\u001B[39m_reader, timeout)\n\u001B[1;32m     88\u001B[0m     \u001B[38;5;28;01mreturn\u001B[39;00m line\n",
      "File \u001B[0;32m~/opt/miniconda3/envs/ICLTP/lib/python3.9/site-packages/pycoq/kernel.py:20\u001B[0m, in \u001B[0;36mreadline\u001B[0;34m(stream, timeout)\u001B[0m\n\u001B[1;32m     15\u001B[0m \u001B[38;5;28;01masync\u001B[39;00m \u001B[38;5;28;01mdef\u001B[39;00m \u001B[38;5;21mreadline\u001B[39m(stream, timeout\u001B[38;5;241m=\u001B[39m\u001B[38;5;28;01mNone\u001B[39;00m) \u001B[38;5;241m-\u001B[39m\u001B[38;5;241m>\u001B[39m \u001B[38;5;28mstr\u001B[39m: \n\u001B[1;32m     16\u001B[0m     \u001B[38;5;124;03m\"\"\" reads line from stream \u001B[39;00m\n\u001B[1;32m     17\u001B[0m \u001B[38;5;124;03m    raises asyncio.TimeoutError if timeout is exceeded\u001B[39;00m\n\u001B[1;32m     18\u001B[0m \u001B[38;5;124;03m    \"\"\"\u001B[39;00m\n\u001B[0;32m---> 20\u001B[0m     line \u001B[38;5;241m=\u001B[39m \u001B[38;5;28;01mawait\u001B[39;00m asyncio\u001B[38;5;241m.\u001B[39mwait_for(stream\u001B[38;5;241m.\u001B[39mreadline(), timeout\u001B[38;5;241m=\u001B[39mtimeout)\n\u001B[1;32m     21\u001B[0m     \u001B[38;5;28;01mreturn\u001B[39;00m line\u001B[38;5;241m.\u001B[39mdecode()\n",
      "File \u001B[0;32m~/opt/miniconda3/envs/ICLTP/lib/python3.9/asyncio/tasks.py:442\u001B[0m, in \u001B[0;36mwait_for\u001B[0;34m(fut, timeout, loop)\u001B[0m\n\u001B[1;32m    437\u001B[0m     warnings\u001B[38;5;241m.\u001B[39mwarn(\u001B[38;5;124m\"\u001B[39m\u001B[38;5;124mThe loop argument is deprecated since Python 3.8, \u001B[39m\u001B[38;5;124m\"\u001B[39m\n\u001B[1;32m    438\u001B[0m                   \u001B[38;5;124m\"\u001B[39m\u001B[38;5;124mand scheduled for removal in Python 3.10.\u001B[39m\u001B[38;5;124m\"\u001B[39m,\n\u001B[1;32m    439\u001B[0m                   \u001B[38;5;167;01mDeprecationWarning\u001B[39;00m, stacklevel\u001B[38;5;241m=\u001B[39m\u001B[38;5;241m2\u001B[39m)\n\u001B[1;32m    441\u001B[0m \u001B[38;5;28;01mif\u001B[39;00m timeout \u001B[38;5;129;01mis\u001B[39;00m \u001B[38;5;28;01mNone\u001B[39;00m:\n\u001B[0;32m--> 442\u001B[0m     \u001B[38;5;28;01mreturn\u001B[39;00m \u001B[38;5;28;01mawait\u001B[39;00m fut\n\u001B[1;32m    444\u001B[0m \u001B[38;5;28;01mif\u001B[39;00m timeout \u001B[38;5;241m<\u001B[39m\u001B[38;5;241m=\u001B[39m \u001B[38;5;241m0\u001B[39m:\n\u001B[1;32m    445\u001B[0m     fut \u001B[38;5;241m=\u001B[39m ensure_future(fut, loop\u001B[38;5;241m=\u001B[39mloop)\n",
      "File \u001B[0;32m~/opt/miniconda3/envs/ICLTP/lib/python3.9/asyncio/streams.py:540\u001B[0m, in \u001B[0;36mStreamReader.readline\u001B[0;34m(self)\u001B[0m\n\u001B[1;32m    538\u001B[0m seplen \u001B[38;5;241m=\u001B[39m \u001B[38;5;28mlen\u001B[39m(sep)\n\u001B[1;32m    539\u001B[0m \u001B[38;5;28;01mtry\u001B[39;00m:\n\u001B[0;32m--> 540\u001B[0m     line \u001B[38;5;241m=\u001B[39m \u001B[38;5;28;01mawait\u001B[39;00m \u001B[38;5;28mself\u001B[39m\u001B[38;5;241m.\u001B[39mreaduntil(sep)\n\u001B[1;32m    541\u001B[0m \u001B[38;5;28;01mexcept\u001B[39;00m exceptions\u001B[38;5;241m.\u001B[39mIncompleteReadError \u001B[38;5;28;01mas\u001B[39;00m e:\n\u001B[1;32m    542\u001B[0m     \u001B[38;5;28;01mreturn\u001B[39;00m e\u001B[38;5;241m.\u001B[39mpartial\n",
      "File \u001B[0;32m~/opt/miniconda3/envs/ICLTP/lib/python3.9/asyncio/streams.py:632\u001B[0m, in \u001B[0;36mStreamReader.readuntil\u001B[0;34m(self, separator)\u001B[0m\n\u001B[1;32m    629\u001B[0m         \u001B[38;5;28;01mraise\u001B[39;00m exceptions\u001B[38;5;241m.\u001B[39mIncompleteReadError(chunk, \u001B[38;5;28;01mNone\u001B[39;00m)\n\u001B[1;32m    631\u001B[0m     \u001B[38;5;66;03m# _wait_for_data() will resume reading if stream was paused.\u001B[39;00m\n\u001B[0;32m--> 632\u001B[0m     \u001B[38;5;28;01mawait\u001B[39;00m \u001B[38;5;28mself\u001B[39m\u001B[38;5;241m.\u001B[39m_wait_for_data(\u001B[38;5;124m'\u001B[39m\u001B[38;5;124mreaduntil\u001B[39m\u001B[38;5;124m'\u001B[39m)\n\u001B[1;32m    634\u001B[0m \u001B[38;5;28;01mif\u001B[39;00m isep \u001B[38;5;241m>\u001B[39m \u001B[38;5;28mself\u001B[39m\u001B[38;5;241m.\u001B[39m_limit:\n\u001B[1;32m    635\u001B[0m     \u001B[38;5;28;01mraise\u001B[39;00m exceptions\u001B[38;5;241m.\u001B[39mLimitOverrunError(\n\u001B[1;32m    636\u001B[0m         \u001B[38;5;124m'\u001B[39m\u001B[38;5;124mSeparator is found, but chunk is longer than limit\u001B[39m\u001B[38;5;124m'\u001B[39m, isep)\n",
      "File \u001B[0;32m~/opt/miniconda3/envs/ICLTP/lib/python3.9/asyncio/streams.py:517\u001B[0m, in \u001B[0;36mStreamReader._wait_for_data\u001B[0;34m(self, func_name)\u001B[0m\n\u001B[1;32m    515\u001B[0m \u001B[38;5;28mself\u001B[39m\u001B[38;5;241m.\u001B[39m_waiter \u001B[38;5;241m=\u001B[39m \u001B[38;5;28mself\u001B[39m\u001B[38;5;241m.\u001B[39m_loop\u001B[38;5;241m.\u001B[39mcreate_future()\n\u001B[1;32m    516\u001B[0m \u001B[38;5;28;01mtry\u001B[39;00m:\n\u001B[0;32m--> 517\u001B[0m     \u001B[38;5;28;01mawait\u001B[39;00m \u001B[38;5;28mself\u001B[39m\u001B[38;5;241m.\u001B[39m_waiter\n\u001B[1;32m    518\u001B[0m \u001B[38;5;28;01mfinally\u001B[39;00m:\n\u001B[1;32m    519\u001B[0m     \u001B[38;5;28mself\u001B[39m\u001B[38;5;241m.\u001B[39m_waiter \u001B[38;5;241m=\u001B[39m \u001B[38;5;28;01mNone\u001B[39;00m\n",
      "\u001B[0;31mCancelledError\u001B[0m: "
     ]
    }
   ],
   "source": [
    "for stmt in script:\n",
    "    print(f\"executing: {stmt}\")\n",
    "    _, _, coq_exc, _ = await coq.execute(stmt)\n",
    "\n",
    "    if coq_exc:\n",
    "        print(f\"evaluation of {stmt} in coq-serapi session raised exception {coq_exc}\")\n",
    "        break\n",
    "\n",
    "    serapi_goals = await coq.serapi_goals()\n",
    "    serapi_proofs = await query_proof_completed(coq)\n",
    "    print(serapi_proofs)"
   ],
   "metadata": {
    "collapsed": false
   }
  }
 ],
 "metadata": {
  "kernelspec": {
   "name": "env_name",
   "language": "python",
   "display_name": "ICLTP"
  },
  "language_info": {
   "codemirror_mode": {
    "name": "ipython",
    "version": 2
   },
   "file_extension": ".py",
   "mimetype": "text/x-python",
   "name": "python",
   "nbconvert_exporter": "python",
   "pygments_lexer": "ipython2",
   "version": "2.7.6"
  }
 },
 "nbformat": 4,
 "nbformat_minor": 0
}
